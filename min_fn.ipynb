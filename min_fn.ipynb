{
 "cells": [
  {
   "cell_type": "code",
   "execution_count": 1,
   "metadata": {},
   "outputs": [],
   "source": [
    "%load_ext autoreload\n",
    "%autoreload 2"
   ]
  },
  {
   "cell_type": "code",
   "execution_count": 2,
   "metadata": {},
   "outputs": [],
   "source": [
    "import torch\n",
    "import theseus as th\n",
    "import matplotlib.pyplot as plt"
   ]
  },
  {
   "cell_type": "code",
   "execution_count": 3,
   "metadata": {},
   "outputs": [
    {
     "data": {
      "image/png": "[encoded data removed]",
      "text/plain": [
       "<Figure size 640x480 with 1 Axes>"
      ]
     },
     "metadata": {},
     "output_type": "display_data"
    }
   ],
   "source": [
    "target_fn_params = {\n",
    "    'a': 0.8,\n",
    "    'b': 2.1,\n",
    "}\n",
    "\n",
    "def target_fn(x, *params):\n",
    "    a, b = params\n",
    "    return a * torch.exp(torch.sin(b * x))\n",
    "\n",
    "def generate_data(n = 100, *params):\n",
    "    x = torch.rand(n) * 5\n",
    "    y = target_fn(x, *params)\n",
    "    noise = torch.randn(n) * 0.001\n",
    "    return torch.stack([x, y + noise], dim=1)\n",
    "\n",
    "data = generate_data(100, *target_fn_params.values())\n",
    "plt.scatter(data[:, 0], data[:, 1])\n",
    "plt.xlabel('x')\n",
    "plt.ylabel('y')\n",
    "plt.show()"
   ]
  },
  {
   "cell_type": "code",
   "execution_count": 4,
   "metadata": {},
   "outputs": [],
   "source": [
    "optim_vars = [th.Vector(1, name=n) for n in target_fn_params.keys()]\n",
    "aux_vars = [\n",
    "    (th.Variable(x.view(1, -1), f'x{i}'),\n",
    "     th.Variable(y.view(1, -1), f'y{i}'))\n",
    "    for i, (x, y) in enumerate(data)\n",
    "]"
   ]
  },
  {
   "cell_type": "code",
   "execution_count": 5,
   "metadata": {},
   "outputs": [],
   "source": [
    "def err_fn(optim_vars: list[th.Variable],\n",
    "             aux_vars: list[th.Variable]):\n",
    "    a, b = [v.tensor for v in optim_vars]\n",
    "    x, y = [v.tensor for v in aux_vars]\n",
    "    y_hat = target_fn(x, a, b)\n",
    "    return y - y_hat\n",
    "\n",
    "costs = []\n",
    "for i, (x, y) in enumerate(aux_vars):\n",
    "    cost = th.AutoDiffCostFunction(\n",
    "        optim_vars, err_fn, 1,\n",
    "        aux_vars=(x, y), name=f'err_fn_{i}',\n",
    "    )\n",
    "    costs.append(cost)\n",
    "\n",
    "obj = th.Objective()\n",
    "for c in costs:\n",
    "    obj.add(c)\n",
    "\n",
    "opt = th.LevenbergMarquardt(\n",
    "    obj, max_iterations=500, step_size=0.5\n",
    ")\n",
    "\n",
    "th_opt = th.TheseusLayer(opt)"
   ]
  },
  {
   "cell_type": "code",
   "execution_count": 6,
   "metadata": {},
   "outputs": [
    {
     "name": "stdout",
     "output_type": "stream",
     "text": [
      "Nonlinear optimizer. Iteration: 0. Error: 73.2146224975586\n",
      "Nonlinear optimizer. Iteration: 1. Error: 33.152015686035156\n",
      "Nonlinear optimizer. Iteration: 2. Error: 23.889991760253906\n",
      "Nonlinear optimizer. Iteration: 3. Error: 20.530773162841797\n",
      "Nonlinear optimizer. Iteration: 4. Error: 19.652923583984375\n",
      "Nonlinear optimizer. Iteration: 5. Error: 19.429731369018555\n",
      "Nonlinear optimizer. Iteration: 6. Error: 19.3734188079834\n",
      "Nonlinear optimizer. Iteration: 7. Error: 19.3592529296875\n",
      "Nonlinear optimizer. Iteration: 8. Error: 19.355693817138672\n",
      "Nonlinear optimizer. Iteration: 9. Error: 19.354799270629883\n",
      "Nonlinear optimizer. Iteration: 10. Error: 19.354572296142578\n",
      "Nonlinear optimizer. Iteration: 11. Error: 19.354515075683594\n",
      "Nonlinear optimizer. Iteration: 12. Error: 19.354503631591797\n",
      "Nonlinear optimizer. Iteration: 13. Error: 19.35449981689453\n",
      "Nonlinear optimizer. Iteration: 14. Error: 19.3544979095459\n",
      "Nonlinear optimizer. Iteration: 15. Error: 19.354496002197266\n",
      "Nonlinear optimizer. Iteration: 16. Error: 19.3544979095459\n",
      "Nonlinear optimizer. Iteration: 17. Error: 19.3544979095459\n",
      "Best solution: {'a': tensor([[1.2488]]), 'b': tensor([[-0.0769]])}\n"
     ]
    }
   ],
   "source": [
    "\n",
    "th_input = {}\n",
    "\n",
    "for k in target_fn_params.keys():\n",
    "    th_input[k] = torch.tensor(2)\n",
    "\n",
    "for i, (x, y) in enumerate(data):\n",
    "    th_input[f'x{i}'] = x\n",
    "    th_input[f'y{i}'] = y\n",
    "\n",
    "for k in th_input.keys():\n",
    "    th_input[k] = th_input[k].view(1, -1).float()\n",
    "\n",
    "with torch.no_grad():\n",
    "    updated_inputs, info = th_opt.forward(\n",
    "        None, optimizer_kwargs={\"track_best_solution\": True, \"verbose\":True})\n",
    "\n",
    "print(\"Best solution:\", info.best_solution)\n"
   ]
  },
  {
   "cell_type": "code",
   "execution_count": null,
   "metadata": {},
   "outputs": [],
   "source": [
    "# Plot the optimized function\n",
    "fig, ax = plt.subplots()\n",
    "ax.scatter(data[:, 0], data[:, 1]);\n",
    "\n",
    "a, b = [info.best_solution[n].squeeze() for n in 'ab']\n",
    "x = torch.linspace(0., 5., steps=200)\n",
    "y = target_fn(x, a, b)\n",
    "ax.plot(x, y, color='k', lw=1, linestyle='-', label='fitted curve')\n",
    "#ax.legend()\n",
    "\n",
    "ax.set_xlabel('x')\n",
    "ax.set_ylabel('y')"
   ]
  },
  {
   "cell_type": "code",
   "execution_count": null,
   "metadata": {},
   "outputs": [],
   "source": []
  }
 ],
 "metadata": {
  "kernelspec": {
   "display_name": "base",
   "language": "python",
   "name": "python3"
  },
  "language_info": {
   "codemirror_mode": {
    "name": "ipython",
    "version": 3
   },
   "file_extension": ".py",
   "mimetype": "text/x-python",
   "name": "python",
   "nbconvert_exporter": "python",
   "pygments_lexer": "ipython3",
   "version": "3.10.13"
  }
 },
 "nbformat": 4,
 "nbformat_minor": 2
}

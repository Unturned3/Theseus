{
 "cells": [
  {
   "cell_type": "code",
   "execution_count": 1,
   "metadata": {},
   "outputs": [],
   "source": [
    "%load_ext autoreload\n",
    "%autoreload 2"
   ]
  },
  {
   "cell_type": "code",
   "execution_count": 2,
   "metadata": {},
   "outputs": [],
   "source": [
    "import numpy as np\n",
    "import utils\n",
    "from utils import ImagePair, ImageMatcher\n",
    "import h5py"
   ]
  },
  {
   "cell_type": "code",
   "execution_count": 3,
   "metadata": {},
   "outputs": [],
   "source": [
    "DATA_DIR = '/Users/richard/Desktop/Dataset/'\n",
    "trajs = np.load(DATA_DIR + '000.npy')\n",
    "frames = utils.load_video(DATA_DIR + 's-000.mp4', grayscale=True)\n",
    "matcher = ImageMatcher(frames)"
   ]
  },
  {
   "cell_type": "code",
   "execution_count": 4,
   "metadata": {},
   "outputs": [],
   "source": [
    "image_pairs = []\n",
    "interval = 15\n",
    "for i in range(0, len(frames) - interval, interval):\n",
    "    for j in range(i + interval, len(frames), interval):\n",
    "        p = matcher.match(i, j)\n",
    "        if p is None:\n",
    "            continue\n",
    "        image_pairs.append(p)"
   ]
  },
  {
   "cell_type": "code",
   "execution_count": 5,
   "metadata": {},
   "outputs": [],
   "source": [
    "utils.export_image_pairs(DATA_DIR + f'cart10.h5', image_pairs)"
   ]
  },
  {
   "cell_type": "code",
   "execution_count": 6,
   "metadata": {},
   "outputs": [
    {
     "name": "stdout",
     "output_type": "stream",
     "text": [
      "cam0: [160.7424055   -3.63613531  -2.43414416 417.03211931]\n",
      "cam15: [172.46769003  -5.84506889  -2.4323979  417.03211931]\n",
      "cam30: [-172.47302936   -8.04836274   -2.8737757   417.03211931]\n",
      "cam45: [-158.16263447  -10.28885047   -3.783362    417.03211931]\n",
      "cam60: [-144.12433793  -11.57700289   -2.65375392  432.45518014]\n",
      "cam75: [-132.71487057  -12.80843431   -1.81128751  577.29528169]\n",
      "cam90: [-125.40004936  -12.72521798   -2.41321512  812.36732661]\n",
      "cam105: [-122.20140787  -12.8723124    -2.44510019 1014.91033676]\n",
      "cam120: [-119.71709352  -13.56505957   -1.97186518 1014.91033676]\n",
      "cam135: [-116.70499327  -13.64768987   -1.84336929 1014.91033676]\n",
      "cam150: [-113.91002271  -13.89106152   -2.01177564 1014.91033676]\n",
      "cam165: [-111.18406368  -13.66320673   -2.30501621 1014.91033676]\n",
      "cam180: [-107.86668783  -13.83587579   -2.32127102 1014.91033676]\n",
      "cam195: [-105.4260416   -14.10470708   -2.51546292 1014.91033676]\n",
      "cam210: [-102.66550771  -14.04764632   -3.02449997 1014.91033676]\n",
      "cam225: [-100.03287279  -14.20531126   -2.37579156 1014.91033676]\n",
      "cam240: [ -97.10948333  -14.70862037   -2.02031425 1014.91033676]\n",
      "cam255: [ -94.13288825  -15.64457091   -1.76160934 1014.91033676]\n",
      "cam270: [-94.75660373 -15.70978989  -2.49698125 812.36732661]\n",
      "cam285: [-101.86993041  -14.53829264   -2.93735023  577.29528169]\n"
     ]
    }
   ],
   "source": [
    "for i, e in enumerate(trajs[::15]):\n",
    "    orig_i = i * 15\n",
    "    e = e.copy()\n",
    "    e[3] = 320 / np.tan(np.radians(0.5 * e[3]))\n",
    "    print(f'cam{orig_i}: {e}')"
   ]
  }
 ],
 "metadata": {
  "kernelspec": {
   "display_name": "base",
   "language": "python",
   "name": "python3"
  },
  "language_info": {
   "codemirror_mode": {
    "name": "ipython",
    "version": 3
   },
   "file_extension": ".py",
   "mimetype": "text/x-python",
   "name": "python",
   "nbconvert_exporter": "python",
   "pygments_lexer": "ipython3",
   "version": "3.10.13"
  }
 },
 "nbformat": 4,
 "nbformat_minor": 2
}

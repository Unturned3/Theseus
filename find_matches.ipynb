{
 "cells": [
  {
   "cell_type": "code",
   "execution_count": null,
   "metadata": {},
   "outputs": [],
   "source": [
    "%load_ext autoreload\n",
    "%autoreload 2"
   ]
  },
  {
   "cell_type": "code",
   "execution_count": null,
   "metadata": {},
   "outputs": [],
   "source": [
    "import numpy as np\n",
    "import utils\n",
    "from utils import ImagePair, ImageMatcher\n",
    "import h5py\n",
    "from scipy.spatial.transform import Rotation as Rot\n",
    "import cv2\n",
    "import matplotlib.pyplot as plt"
   ]
  },
  {
   "cell_type": "code",
   "execution_count": null,
   "metadata": {},
   "outputs": [],
   "source": [
    "DATA_DIR = '/Users/richard/Desktop/Dataset/'\n",
    "#in_vid_path = DATA_DIR + 'real-t000.mp4'\n",
    "in_vid_path = DATA_DIR + '3-3-v001-t000.mp4'\n",
    "#in_vid_path = DATA_DIR + '../Kamera13_1620_1640.mp4'\n",
    "frames = utils.load_video(in_vid_path,\n",
    "                          grayscale=True)\n",
    "\n",
    "#frames = [cv2.resize(frame, (640, 360)) for frame in frames]\n",
    "print('n_frames:', len(frames))"
   ]
  },
  {
   "cell_type": "code",
   "execution_count": null,
   "metadata": {},
   "outputs": [],
   "source": [
    "matcher = ImageMatcher(frames)"
   ]
  },
  {
   "cell_type": "code",
   "execution_count": null,
   "metadata": {},
   "outputs": [],
   "source": [
    "p = matcher.match(190, 191, min_match_count=250, verbose=True)\n",
    "print(f'Number of matches: {len(p.src_pts)}')\n",
    "utils.visualize_matches(p)"
   ]
  },
  {
   "cell_type": "code",
   "execution_count": null,
   "metadata": {},
   "outputs": [],
   "source": [
    "image_pairs = matcher.lk_track()\n",
    "closures = []\n",
    "\n",
    "#interval = 30\n",
    "#for i in range(0, len(frames) - interval, interval):\n",
    "#    for j in range(i + interval, len(frames), interval):\n",
    "#        p = matcher.match(i, j, 'sift',\n",
    "#                          min_match_count=25)\n",
    "#        if p is None:\n",
    "#            continue\n",
    "#        closures.append(p)\n",
    "#        image_pairs.append(p)\n",
    "\n",
    "#for i in range(0, len(frames) - 1):\n",
    "#    p = matcher.match(i, i+1, min_match_count=200, verbose=True)\n",
    "#    if p is None:\n",
    "#        print('No match found for frames', i, i+1)\n",
    "#    image_pairs.append(p)\n",
    "\n",
    "print('Number of loop closures:', len(closures))"
   ]
  },
  {
   "cell_type": "code",
   "execution_count": null,
   "metadata": {},
   "outputs": [],
   "source": [
    "for p in closures:\n",
    "    print(f'Number of matches from {p.i} to {p.j}: {len(p.src_pts)}')\n",
    "    utils.visualize_matches(p)"
   ]
  },
  {
   "cell_type": "code",
   "execution_count": null,
   "metadata": {},
   "outputs": [],
   "source": [
    "utils.export_image_pairs(DATA_DIR + f'cart10.h5', image_pairs)"
   ]
  },
  {
   "cell_type": "code",
   "execution_count": null,
   "metadata": {},
   "outputs": [],
   "source": [
    "cam_params_raw = utils.import_optimized_cam_params(DATA_DIR + 'optimized_cam_params.h5')\n",
    "\n",
    "cam_params = {}\n",
    "for i, p in cam_params_raw.items():\n",
    "    cam_params[i] = {\n",
    "        'R': Rot.from_rotvec(p[:3], degrees=False).as_matrix(),\n",
    "        'hfov': 2 * np.degrees(np.arctan(320 / p[3])),\n",
    "    }"
   ]
  },
  {
   "cell_type": "code",
   "execution_count": null,
   "metadata": {},
   "outputs": [],
   "source": [
    "trajs = np.load(DATA_DIR + 't000.npy')\n",
    "cam_params_gt = {}\n",
    "for i in cam_params.keys():\n",
    "    p = trajs[i]\n",
    "    cam_params_gt[i] = {\n",
    "        'R': Rot.from_euler('YXZ', p[:3], degrees=True).as_matrix(),\n",
    "        'hfov': p[3],\n",
    "    }\n",
    "\n",
    "base_R = cam_params[0]['R'].T.copy()\n",
    "for p in cam_params.values():\n",
    "    p['R'] = base_R @ p['R']\n",
    "\n",
    "base_R = cam_params_gt[0]['R'].T.copy()\n",
    "for p in cam_params_gt.values():\n",
    "    p['R'] = base_R @ p['R']"
   ]
  },
  {
   "cell_type": "code",
   "execution_count": null,
   "metadata": {},
   "outputs": [],
   "source": [
    "# Compute the angular pose error and hfov error between cam_params and cam_params_gt\n",
    "angular_errors = []\n",
    "hfov_errors = []\n",
    "for i in sorted(cam_params.keys()):\n",
    "    R = cam_params[i]['R']\n",
    "    R_gt = cam_params_gt[i]['R']\n",
    "    angular_errors.append(np.degrees(Rot.from_matrix(R @ R_gt.T).magnitude()))\n",
    "    hfov_errors.append(np.abs(cam_params[i]['hfov'] - cam_params_gt[i]['hfov']))\n",
    "\n",
    "# pretty print the mean / max of angular and hfov errors to 5 sf\n",
    "print(f'angular error mean: {np.mean(angular_errors):.5f}, max: {np.max(angular_errors):.5f}')\n",
    "print(f'hfov error mean: {np.mean(hfov_errors):.5f}, max: {np.max(hfov_errors):.5f}')\n"
   ]
  },
  {
   "cell_type": "code",
   "execution_count": null,
   "metadata": {},
   "outputs": [],
   "source": [
    "L, U = 0, 900\n",
    "plt.plot(angular_errors[L:U])\n",
    "plt.show()"
   ]
  },
  {
   "cell_type": "code",
   "execution_count": null,
   "metadata": {},
   "outputs": [],
   "source": [
    "\"\"\"\n",
    "Using: real-t000.mp4\n",
    "\n",
    "    BA w/o loop closures:\n",
    "        angular error mean: 0.66729, max: 1.12227\n",
    "        hfov error mean: 0.28015, max: 0.67571\n",
    "\n",
    "    BA w/ loop closures:\n",
    "        angular error mean: 0.51575, max: 0.71856\n",
    "        hfov error mean: 0.16311, max: 0.63163\n",
    "\n",
    "Using: 3-3-v001-t000.mp4\n",
    "\n",
    "    BA w/o loop closures (just pairwise matches):\n",
    "        angular error mean: 2.56697, max: 6.22907\n",
    "        hfov error mean: 1.22483, max: 5.85090\n",
    "\n",
    "    BA w/ loop closures:\n",
    "        angular error mean: 1.16865, max: 3.69337\n",
    "        hfov error mean: 1.03221, max: 3.88494\n",
    "\"\"\";"
   ]
  },
  {
   "cell_type": "code",
   "execution_count": null,
   "metadata": {},
   "outputs": [],
   "source": [
    "# print gt hfovs\n",
    "print('gt hfovs:')\n",
    "for i in cam_params_gt.keys():\n",
    "    print(f'{i}: {cam_params_gt[i][\"hfov\"]:.5f}')\n",
    "\n",
    "# print optimized hfovs\n",
    "print('optimized hfovs:')\n",
    "for i in cam_params.keys():\n",
    "    print(f'{i}: {cam_params[i][\"hfov\"]:.5f}')\n"
   ]
  }
 ],
 "metadata": {
  "kernelspec": {
   "display_name": "base",
   "language": "python",
   "name": "python3"
  },
  "language_info": {
   "codemirror_mode": {
    "name": "ipython",
    "version": 3
   },
   "file_extension": ".py",
   "mimetype": "text/x-python",
   "name": "python",
   "nbconvert_exporter": "python",
   "pygments_lexer": "ipython3",
   "version": "3.10.13"
  }
 },
 "nbformat": 4,
 "nbformat_minor": 2
}
